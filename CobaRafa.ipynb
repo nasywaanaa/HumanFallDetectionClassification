{
 "cells": [
  {
   "cell_type": "code",
   "execution_count": 4,
   "metadata": {},
   "outputs": [
    {
     "ename": "FileNotFoundError",
     "evalue": "[Errno 2] No such file or directory: 'datasets'",
     "output_type": "error",
     "traceback": [
      "\u001b[0;31m---------------------------------------------------------------------------\u001b[0m",
      "\u001b[0;31mFileNotFoundError\u001b[0m                         Traceback (most recent call last)",
      "Cell \u001b[0;32mIn[4], line 62\u001b[0m\n\u001b[1;32m     59\u001b[0m                 \u001b[38;5;28mprint\u001b[39m(\u001b[38;5;124mf\u001b[39m\u001b[38;5;124m\"\u001b[39m\u001b[38;5;124mError memproses \u001b[39m\u001b[38;5;132;01m{\u001b[39;00mfilename\u001b[38;5;132;01m}\u001b[39;00m\u001b[38;5;124m: \u001b[39m\u001b[38;5;132;01m{\u001b[39;00me\u001b[38;5;132;01m}\u001b[39;00m\u001b[38;5;124m\"\u001b[39m)\n\u001b[1;32m     61\u001b[0m \u001b[38;5;28;01mif\u001b[39;00m \u001b[38;5;18m__name__\u001b[39m \u001b[38;5;241m==\u001b[39m \u001b[38;5;124m\"\u001b[39m\u001b[38;5;124m__main__\u001b[39m\u001b[38;5;124m\"\u001b[39m:\n\u001b[0;32m---> 62\u001b[0m     \u001b[43mmain\u001b[49m\u001b[43m(\u001b[49m\u001b[43m)\u001b[49m\n",
      "Cell \u001b[0;32mIn[4], line 52\u001b[0m, in \u001b[0;36mmain\u001b[0;34m()\u001b[0m\n\u001b[1;32m     49\u001b[0m ensure_directory(output_folder)\n\u001b[1;32m     51\u001b[0m \u001b[38;5;66;03m# Proses setiap gambar di folder input\u001b[39;00m\n\u001b[0;32m---> 52\u001b[0m \u001b[38;5;28;01mfor\u001b[39;00m filename \u001b[38;5;129;01min\u001b[39;00m \u001b[43mos\u001b[49m\u001b[38;5;241;43m.\u001b[39;49m\u001b[43mlistdir\u001b[49m\u001b[43m(\u001b[49m\u001b[43minput_folder\u001b[49m\u001b[43m)\u001b[49m:\n\u001b[1;32m     53\u001b[0m     \u001b[38;5;28;01mif\u001b[39;00m filename\u001b[38;5;241m.\u001b[39mlower()\u001b[38;5;241m.\u001b[39mendswith((\u001b[38;5;124m'\u001b[39m\u001b[38;5;124m.png\u001b[39m\u001b[38;5;124m'\u001b[39m, \u001b[38;5;124m'\u001b[39m\u001b[38;5;124m.jpg\u001b[39m\u001b[38;5;124m'\u001b[39m, \u001b[38;5;124m'\u001b[39m\u001b[38;5;124m.jpeg\u001b[39m\u001b[38;5;124m'\u001b[39m, \u001b[38;5;124m'\u001b[39m\u001b[38;5;124m.bmp\u001b[39m\u001b[38;5;124m'\u001b[39m, \u001b[38;5;124m'\u001b[39m\u001b[38;5;124m.tiff\u001b[39m\u001b[38;5;124m'\u001b[39m)):\n\u001b[1;32m     54\u001b[0m         input_image_path \u001b[38;5;241m=\u001b[39m os\u001b[38;5;241m.\u001b[39mpath\u001b[38;5;241m.\u001b[39mjoin(input_folder, filename)\n",
      "\u001b[0;31mFileNotFoundError\u001b[0m: [Errno 2] No such file or directory: 'datasets'"
     ]
    }
   ],
   "source": [
    "import os\n",
    "from ultralytics import YOLO\n",
    "import cv2\n",
    "\n",
    "def ensure_directory(directory):\n",
    "    \"\"\"Membuat direktori jika belum ada.\"\"\"\n",
    "    if not os.path.exists(directory):\n",
    "        os.makedirs(directory)\n",
    "\n",
    "def detect_objects(image_path, model_path='best.pt', conf_threshold=0.25):\n",
    "    \"\"\"Fungsi untuk melakukan deteksi objek menggunakan YOLO.\"\"\"\n",
    "    # Memuat model yang telah dilatih\n",
    "    model = YOLO(model_path)\n",
    "    \n",
    "    # Melakukan inferensi pada gambar dengan threshold confidence\n",
    "    results = model.predict(source=image_path, save=False, conf=conf_threshold)\n",
    "    \n",
    "    # Menampilkan hasil deteksi\n",
    "    for result in results:\n",
    "        img = result.orig_img\n",
    "        boxes = result.boxes  # Dapatkan bounding boxes\n",
    "        \n",
    "        for box in boxes:\n",
    "            x1, y1, x2, y2 = box.xyxy[0]  # Koordinat bounding box\n",
    "            conf = box.conf[0]  # Confidence score\n",
    "            cls = box.cls[0]  # Kelas yang terdeteksi\n",
    "            class_name = model.names[int(cls)]\n",
    "            \n",
    "            # Gambar bounding box\n",
    "            cv2.rectangle(img, (int(x1), int(y1)), (int(x2), int(y2)), (255, 0, 0), 2)\n",
    "            cv2.putText(img, f\"{class_name} {conf:.2f}\", (int(x1), int(y1) - 10), cv2.FONT_HERSHEY_SIMPLEX, 0.5, (255, 0, 0), 2)\n",
    "    \n",
    "    return img\n",
    "\n",
    "def save_detection_result(image, input_image_path, output_folder='detection_result'):\n",
    "    \"\"\"Menyimpan gambar hasil deteksi ke dalam folder tertentu.\"\"\"\n",
    "    ensure_directory(output_folder)\n",
    "    filename = os.path.basename(input_image_path)\n",
    "    output_path = os.path.join(output_folder, filename)\n",
    "    cv2.imwrite(output_path, image)\n",
    "    print(f\"Gambar hasil deteksi disimpan di {output_path}\")\n",
    "\n",
    "def main():\n",
    "    # Path ke folder input gambar\n",
    "    input_folder = 'datasets'\n",
    "    output_folder = 'detection_result'\n",
    "    model_path = 'best.pt'  # Ganti dengan path model YOLO Anda\n",
    "    \n",
    "    ensure_directory(output_folder)\n",
    "    \n",
    "    # Proses setiap gambar di folder input\n",
    "    for filename in os.listdir(input_folder):\n",
    "        if filename.lower().endswith(('.png', '.jpg', '.jpeg', '.bmp', '.tiff')):\n",
    "            input_image_path = os.path.join(input_folder, filename)\n",
    "            try:\n",
    "                detected_img = detect_objects(input_image_path, model_path=model_path)\n",
    "                save_detection_result(detected_img, input_image_path, output_folder)\n",
    "            except Exception as e:\n",
    "                print(f\"Error memproses {filename}: {e}\")\n",
    "\n",
    "if __name__ == \"__main__\":\n",
    "    main()"
   ]
  }
 ],
 "metadata": {
  "kernelspec": {
   "display_name": "Python 3",
   "language": "python",
   "name": "python3"
  },
  "language_info": {
   "codemirror_mode": {
    "name": "ipython",
    "version": 3
   },
   "file_extension": ".py",
   "mimetype": "text/x-python",
   "name": "python",
   "nbconvert_exporter": "python",
   "pygments_lexer": "ipython3",
   "version": "3.11.5"
  }
 },
 "nbformat": 4,
 "nbformat_minor": 2
}
